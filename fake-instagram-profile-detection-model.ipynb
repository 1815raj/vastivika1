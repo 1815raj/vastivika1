{
 "cells": [
  {
   "cell_type": "markdown",
   "id": "eee36115",
   "metadata": {
    "_cell_guid": "b1076dfc-b9ad-4769-8c92-a6c4dae69d19",
    "_uuid": "8f2839f25d086af736a60e9eeb907d3b93b6e0e5",
    "execution": {
     "iopub.execute_input": "2023-01-09T19:58:06.609833Z",
     "iopub.status.busy": "2023-01-09T19:58:06.608805Z",
     "iopub.status.idle": "2023-01-09T19:58:14.940871Z",
     "shell.execute_reply": "2023-01-09T19:58:14.939580Z",
     "shell.execute_reply.started": "2023-01-09T19:58:06.609790Z"
    },
    "papermill": {
     "duration": 0.015087,
     "end_time": "2023-01-09T20:14:57.249389",
     "exception": false,
     "start_time": "2023-01-09T20:14:57.234302",
     "status": "completed"
    },
    "tags": []
   },
   "source": [
    "# Introduction and Project Scope"
   ]
  },
  {
   "cell_type": "markdown",
   "id": "829bd2ad",
   "metadata": {
    "papermill": {
     "duration": 0.011529,
     "end_time": "2023-01-09T20:14:57.271435",
     "exception": false,
     "start_time": "2023-01-09T20:14:57.259906",
     "status": "completed"
    },
    "tags": []
   },
   "source": [
    "It is difficult to determine the authenticity of an Instagram account with complete certainty. However, it is possible to build a model that can predict the likelihood that an Instagram account is fake, based on certain characteristics of the account and its activity.\n",
    "\n",
    "Some possible characteristics that could be used as input features for a fake Instagram account detection model include:\n",
    "\n",
    "1. The number of followers the account has\n",
    "2. The ratio of followers to following\n",
    "3. The age of the account\n",
    "4. The amount of activity on the account (e.g. number of posts, comments, likes)\n",
    "5. The type of content that is posted\n",
    "6. The use of hashtags\n",
    "7. The presence of a profile picture and biography\n",
    "8. The use of third-party apps to boost the account's activity\n",
    "\n",
    "Using these and other relevant features, it is possible to train a machine learning model to predict the likelihood that an Instagram account is fake.However, it is important to note that building an accurate fake Instagram account detection model would likely require a large and diverse dataset of real and fake accounts, as well as careful feature engineering and model selection. It would also be important to continuously update the model as fake accounts evolve and change over time."
   ]
  },
  {
   "cell_type": "markdown",
   "id": "4a60e0c1",
   "metadata": {
    "papermill": {
     "duration": 0.008717,
     "end_time": "2023-01-09T20:14:57.289288",
     "exception": false,
     "start_time": "2023-01-09T20:14:57.280571",
     "status": "completed"
    },
    "tags": []
   },
   "source": [
    "# Importing Libraries and Datasets"
   ]
  },
  {
   "cell_type": "code",
   "execution_count": 1,
   "id": "96c9d78b",
   "metadata": {
    "execution": {
     "iopub.execute_input": "2023-01-09T20:14:57.309801Z",
     "iopub.status.busy": "2023-01-09T20:14:57.309145Z",
     "iopub.status.idle": "2023-01-09T20:15:06.149025Z",
     "shell.execute_reply": "2023-01-09T20:15:06.147470Z"
    },
    "papermill": {
     "duration": 8.853712,
     "end_time": "2023-01-09T20:15:06.151982",
     "exception": false,
     "start_time": "2023-01-09T20:14:57.298270",
     "status": "completed"
    },
    "tags": []
   },
   "outputs": [
    {
     "name": "stdout",
     "output_type": "stream",
     "text": [
      "/kaggle/input/instagram-fake-spammer-genuine-accounts/train.csv\n",
      "/kaggle/input/instagram-fake-spammer-genuine-accounts/test.csv\n"
     ]
    }
   ],
   "source": [
    "\n",
    "import pandas as pd\n",
    "import matplotlib.pyplot as plt\n",
    "import numpy as np\n",
    "import seaborn as sns\n",
    "\n",
    "import tensorflow as tf\n",
    "from tensorflow import keras\n",
    "from tensorflow.keras.layers import Dense, Activation, Dropout\n",
    "from tensorflow.keras.optimizers import Adam\n",
    "from tensorflow.keras.metrics import Accuracy\n",
    "\n",
    "from sklearn import metrics\n",
    "from sklearn.preprocessing import LabelEncoder\n",
    "from sklearn.metrics import classification_report,accuracy_score,roc_curve,confusion_matrix\n",
    "\n",
    "import os\n",
    "for dirname, _, filenames in os.walk('/kaggle/input'):\n",
    "    for filename in filenames:\n",
    "        print(os.path.join(dirname, filename))\n"
   ]
  },
  {
   "cell_type": "code",
   "execution_count": 2,
   "id": "2f380894",
   "metadata": {
    "execution": {
     "iopub.execute_input": "2023-01-09T20:15:06.173300Z",
     "iopub.status.busy": "2023-01-09T20:15:06.172642Z",
     "iopub.status.idle": "2023-01-09T20:15:06.179504Z",
     "shell.execute_reply": "2023-01-09T20:15:06.178261Z"
    },
    "papermill": {
     "duration": 0.019559,
     "end_time": "2023-01-09T20:15:06.182075",
     "exception": false,
     "start_time": "2023-01-09T20:15:06.162516",
     "status": "completed"
    },
    "tags": []
   },
   "outputs": [],
   "source": [
    "import warnings\n",
    "\n",
    "warnings.filterwarnings(\"ignore\")\n",
    "\n",
    "\n",
    "def fxn():\n",
    "    warnings.warn(\"deprecated\", DeprecationWarning)\n",
    "\n",
    "with warnings.catch_warnings():\n",
    "    warnings.filterwarnings(\"ignore\", category=DeprecationWarning)\n",
    "    fxn()\n"
   ]
  },
  {
   "cell_type": "code",
   "execution_count": 3,
   "id": "7e5155eb",
   "metadata": {
    "execution": {
     "iopub.execute_input": "2023-01-09T20:15:06.201449Z",
     "iopub.status.busy": "2023-01-09T20:15:06.201048Z",
     "iopub.status.idle": "2023-01-09T20:15:06.247106Z",
     "shell.execute_reply": "2023-01-09T20:15:06.245782Z"
    },
    "papermill": {
     "duration": 0.058811,
     "end_time": "2023-01-09T20:15:06.249793",
     "exception": false,
     "start_time": "2023-01-09T20:15:06.190982",
     "status": "completed"
    },
    "tags": []
   },
   "outputs": [
    {
     "data": {
      "text/html": [
       "<div>\n",
       "<style scoped>\n",
       "    .dataframe tbody tr th:only-of-type {\n",
       "        vertical-align: middle;\n",
       "    }\n",
       "\n",
       "    .dataframe tbody tr th {\n",
       "        vertical-align: top;\n",
       "    }\n",
       "\n",
       "    .dataframe thead th {\n",
       "        text-align: right;\n",
       "    }\n",
       "</style>\n",
       "<table border=\"1\" class=\"dataframe\">\n",
       "  <thead>\n",
       "    <tr style=\"text-align: right;\">\n",
       "      <th></th>\n",
       "      <th>profile pic</th>\n",
       "      <th>nums/length username</th>\n",
       "      <th>fullname words</th>\n",
       "      <th>nums/length fullname</th>\n",
       "      <th>name==username</th>\n",
       "      <th>description length</th>\n",
       "      <th>external URL</th>\n",
       "      <th>private</th>\n",
       "      <th>#posts</th>\n",
       "      <th>#followers</th>\n",
       "      <th>#follows</th>\n",
       "      <th>fake</th>\n",
       "    </tr>\n",
       "  </thead>\n",
       "  <tbody>\n",
       "    <tr>\n",
       "      <th>0</th>\n",
       "      <td>1</td>\n",
       "      <td>0.27</td>\n",
       "      <td>0</td>\n",
       "      <td>0.00</td>\n",
       "      <td>0</td>\n",
       "      <td>53</td>\n",
       "      <td>0</td>\n",
       "      <td>0</td>\n",
       "      <td>32</td>\n",
       "      <td>1000</td>\n",
       "      <td>955</td>\n",
       "      <td>0</td>\n",
       "    </tr>\n",
       "    <tr>\n",
       "      <th>1</th>\n",
       "      <td>1</td>\n",
       "      <td>0.00</td>\n",
       "      <td>2</td>\n",
       "      <td>0.00</td>\n",
       "      <td>0</td>\n",
       "      <td>44</td>\n",
       "      <td>0</td>\n",
       "      <td>0</td>\n",
       "      <td>286</td>\n",
       "      <td>2740</td>\n",
       "      <td>533</td>\n",
       "      <td>0</td>\n",
       "    </tr>\n",
       "    <tr>\n",
       "      <th>2</th>\n",
       "      <td>1</td>\n",
       "      <td>0.10</td>\n",
       "      <td>2</td>\n",
       "      <td>0.00</td>\n",
       "      <td>0</td>\n",
       "      <td>0</td>\n",
       "      <td>0</td>\n",
       "      <td>1</td>\n",
       "      <td>13</td>\n",
       "      <td>159</td>\n",
       "      <td>98</td>\n",
       "      <td>0</td>\n",
       "    </tr>\n",
       "    <tr>\n",
       "      <th>3</th>\n",
       "      <td>1</td>\n",
       "      <td>0.00</td>\n",
       "      <td>1</td>\n",
       "      <td>0.00</td>\n",
       "      <td>0</td>\n",
       "      <td>82</td>\n",
       "      <td>0</td>\n",
       "      <td>0</td>\n",
       "      <td>679</td>\n",
       "      <td>414</td>\n",
       "      <td>651</td>\n",
       "      <td>0</td>\n",
       "    </tr>\n",
       "    <tr>\n",
       "      <th>4</th>\n",
       "      <td>1</td>\n",
       "      <td>0.00</td>\n",
       "      <td>2</td>\n",
       "      <td>0.00</td>\n",
       "      <td>0</td>\n",
       "      <td>0</td>\n",
       "      <td>0</td>\n",
       "      <td>1</td>\n",
       "      <td>6</td>\n",
       "      <td>151</td>\n",
       "      <td>126</td>\n",
       "      <td>0</td>\n",
       "    </tr>\n",
       "    <tr>\n",
       "      <th>...</th>\n",
       "      <td>...</td>\n",
       "      <td>...</td>\n",
       "      <td>...</td>\n",
       "      <td>...</td>\n",
       "      <td>...</td>\n",
       "      <td>...</td>\n",
       "      <td>...</td>\n",
       "      <td>...</td>\n",
       "      <td>...</td>\n",
       "      <td>...</td>\n",
       "      <td>...</td>\n",
       "      <td>...</td>\n",
       "    </tr>\n",
       "    <tr>\n",
       "      <th>571</th>\n",
       "      <td>1</td>\n",
       "      <td>0.55</td>\n",
       "      <td>1</td>\n",
       "      <td>0.44</td>\n",
       "      <td>0</td>\n",
       "      <td>0</td>\n",
       "      <td>0</td>\n",
       "      <td>0</td>\n",
       "      <td>33</td>\n",
       "      <td>166</td>\n",
       "      <td>596</td>\n",
       "      <td>1</td>\n",
       "    </tr>\n",
       "    <tr>\n",
       "      <th>572</th>\n",
       "      <td>1</td>\n",
       "      <td>0.38</td>\n",
       "      <td>1</td>\n",
       "      <td>0.33</td>\n",
       "      <td>0</td>\n",
       "      <td>21</td>\n",
       "      <td>0</td>\n",
       "      <td>0</td>\n",
       "      <td>44</td>\n",
       "      <td>66</td>\n",
       "      <td>75</td>\n",
       "      <td>1</td>\n",
       "    </tr>\n",
       "    <tr>\n",
       "      <th>573</th>\n",
       "      <td>1</td>\n",
       "      <td>0.57</td>\n",
       "      <td>2</td>\n",
       "      <td>0.00</td>\n",
       "      <td>0</td>\n",
       "      <td>0</td>\n",
       "      <td>0</td>\n",
       "      <td>0</td>\n",
       "      <td>4</td>\n",
       "      <td>96</td>\n",
       "      <td>339</td>\n",
       "      <td>1</td>\n",
       "    </tr>\n",
       "    <tr>\n",
       "      <th>574</th>\n",
       "      <td>1</td>\n",
       "      <td>0.57</td>\n",
       "      <td>1</td>\n",
       "      <td>0.00</td>\n",
       "      <td>0</td>\n",
       "      <td>11</td>\n",
       "      <td>0</td>\n",
       "      <td>0</td>\n",
       "      <td>0</td>\n",
       "      <td>57</td>\n",
       "      <td>73</td>\n",
       "      <td>1</td>\n",
       "    </tr>\n",
       "    <tr>\n",
       "      <th>575</th>\n",
       "      <td>1</td>\n",
       "      <td>0.27</td>\n",
       "      <td>1</td>\n",
       "      <td>0.00</td>\n",
       "      <td>0</td>\n",
       "      <td>0</td>\n",
       "      <td>0</td>\n",
       "      <td>0</td>\n",
       "      <td>2</td>\n",
       "      <td>150</td>\n",
       "      <td>487</td>\n",
       "      <td>1</td>\n",
       "    </tr>\n",
       "  </tbody>\n",
       "</table>\n",
       "<p>576 rows × 12 columns</p>\n",
       "</div>"
      ],
      "text/plain": [
       "     profile pic  nums/length username  fullname words  nums/length fullname  \\\n",
       "0              1                  0.27               0                  0.00   \n",
       "1              1                  0.00               2                  0.00   \n",
       "2              1                  0.10               2                  0.00   \n",
       "3              1                  0.00               1                  0.00   \n",
       "4              1                  0.00               2                  0.00   \n",
       "..           ...                   ...             ...                   ...   \n",
       "571            1                  0.55               1                  0.44   \n",
       "572            1                  0.38               1                  0.33   \n",
       "573            1                  0.57               2                  0.00   \n",
       "574            1                  0.57               1                  0.00   \n",
       "575            1                  0.27               1                  0.00   \n",
       "\n",
       "     name==username  description length  external URL  private  #posts  \\\n",
       "0                 0                  53             0        0      32   \n",
       "1                 0                  44             0        0     286   \n",
       "2                 0                   0             0        1      13   \n",
       "3                 0                  82             0        0     679   \n",
       "4                 0                   0             0        1       6   \n",
       "..              ...                 ...           ...      ...     ...   \n",
       "571               0                   0             0        0      33   \n",
       "572               0                  21             0        0      44   \n",
       "573               0                   0             0        0       4   \n",
       "574               0                  11             0        0       0   \n",
       "575               0                   0             0        0       2   \n",
       "\n",
       "     #followers  #follows  fake  \n",
       "0          1000       955     0  \n",
       "1          2740       533     0  \n",
       "2           159        98     0  \n",
       "3           414       651     0  \n",
       "4           151       126     0  \n",
       "..          ...       ...   ...  \n",
       "571         166       596     1  \n",
       "572          66        75     1  \n",
       "573          96       339     1  \n",
       "574          57        73     1  \n",
       "575         150       487     1  \n",
       "\n",
       "[576 rows x 12 columns]"
      ]
     },
     "execution_count": 3,
     "metadata": {},
     "output_type": "execute_result"
    }
   ],
   "source": [
    "# Load the training dataset\n",
    "instagram_df_train=pd.read_csv('/kaggle/input/instagram-fake-spammer-genuine-accounts/train.csv')\n",
    "instagram_df_train"
   ]
  },
  {
   "cell_type": "code",
   "execution_count": 4,
   "id": "8cb8d8b3",
   "metadata": {
    "execution": {
     "iopub.execute_input": "2023-01-09T20:15:06.270135Z",
     "iopub.status.busy": "2023-01-09T20:15:06.269723Z",
     "iopub.status.idle": "2023-01-09T20:15:06.298323Z",
     "shell.execute_reply": "2023-01-09T20:15:06.296932Z"
    },
    "papermill": {
     "duration": 0.041752,
     "end_time": "2023-01-09T20:15:06.300913",
     "exception": false,
     "start_time": "2023-01-09T20:15:06.259161",
     "status": "completed"
    },
    "tags": []
   },
   "outputs": [
    {
     "data": {
      "text/html": [
       "<div>\n",
       "<style scoped>\n",
       "    .dataframe tbody tr th:only-of-type {\n",
       "        vertical-align: middle;\n",
       "    }\n",
       "\n",
       "    .dataframe tbody tr th {\n",
       "        vertical-align: top;\n",
       "    }\n",
       "\n",
       "    .dataframe thead th {\n",
       "        text-align: right;\n",
       "    }\n",
       "</style>\n",
       "<table border=\"1\" class=\"dataframe\">\n",
       "  <thead>\n",
       "    <tr style=\"text-align: right;\">\n",
       "      <th></th>\n",
       "      <th>profile pic</th>\n",
       "      <th>nums/length username</th>\n",
       "      <th>fullname words</th>\n",
       "      <th>nums/length fullname</th>\n",
       "      <th>name==username</th>\n",
       "      <th>description length</th>\n",
       "      <th>external URL</th>\n",
       "      <th>private</th>\n",
       "      <th>#posts</th>\n",
       "      <th>#followers</th>\n",
       "      <th>#follows</th>\n",
       "      <th>fake</th>\n",
       "    </tr>\n",
       "  </thead>\n",
       "  <tbody>\n",
       "    <tr>\n",
       "      <th>0</th>\n",
       "      <td>1</td>\n",
       "      <td>0.33</td>\n",
       "      <td>1</td>\n",
       "      <td>0.33</td>\n",
       "      <td>1</td>\n",
       "      <td>30</td>\n",
       "      <td>0</td>\n",
       "      <td>1</td>\n",
       "      <td>35</td>\n",
       "      <td>488</td>\n",
       "      <td>604</td>\n",
       "      <td>0</td>\n",
       "    </tr>\n",
       "    <tr>\n",
       "      <th>1</th>\n",
       "      <td>1</td>\n",
       "      <td>0.00</td>\n",
       "      <td>5</td>\n",
       "      <td>0.00</td>\n",
       "      <td>0</td>\n",
       "      <td>64</td>\n",
       "      <td>0</td>\n",
       "      <td>1</td>\n",
       "      <td>3</td>\n",
       "      <td>35</td>\n",
       "      <td>6</td>\n",
       "      <td>0</td>\n",
       "    </tr>\n",
       "    <tr>\n",
       "      <th>2</th>\n",
       "      <td>1</td>\n",
       "      <td>0.00</td>\n",
       "      <td>2</td>\n",
       "      <td>0.00</td>\n",
       "      <td>0</td>\n",
       "      <td>82</td>\n",
       "      <td>0</td>\n",
       "      <td>1</td>\n",
       "      <td>319</td>\n",
       "      <td>328</td>\n",
       "      <td>668</td>\n",
       "      <td>0</td>\n",
       "    </tr>\n",
       "    <tr>\n",
       "      <th>3</th>\n",
       "      <td>1</td>\n",
       "      <td>0.00</td>\n",
       "      <td>1</td>\n",
       "      <td>0.00</td>\n",
       "      <td>0</td>\n",
       "      <td>143</td>\n",
       "      <td>0</td>\n",
       "      <td>1</td>\n",
       "      <td>273</td>\n",
       "      <td>14890</td>\n",
       "      <td>7369</td>\n",
       "      <td>0</td>\n",
       "    </tr>\n",
       "    <tr>\n",
       "      <th>4</th>\n",
       "      <td>1</td>\n",
       "      <td>0.50</td>\n",
       "      <td>1</td>\n",
       "      <td>0.00</td>\n",
       "      <td>0</td>\n",
       "      <td>76</td>\n",
       "      <td>0</td>\n",
       "      <td>1</td>\n",
       "      <td>6</td>\n",
       "      <td>225</td>\n",
       "      <td>356</td>\n",
       "      <td>0</td>\n",
       "    </tr>\n",
       "    <tr>\n",
       "      <th>...</th>\n",
       "      <td>...</td>\n",
       "      <td>...</td>\n",
       "      <td>...</td>\n",
       "      <td>...</td>\n",
       "      <td>...</td>\n",
       "      <td>...</td>\n",
       "      <td>...</td>\n",
       "      <td>...</td>\n",
       "      <td>...</td>\n",
       "      <td>...</td>\n",
       "      <td>...</td>\n",
       "      <td>...</td>\n",
       "    </tr>\n",
       "    <tr>\n",
       "      <th>115</th>\n",
       "      <td>1</td>\n",
       "      <td>0.29</td>\n",
       "      <td>1</td>\n",
       "      <td>0.00</td>\n",
       "      <td>0</td>\n",
       "      <td>0</td>\n",
       "      <td>0</td>\n",
       "      <td>0</td>\n",
       "      <td>13</td>\n",
       "      <td>114</td>\n",
       "      <td>811</td>\n",
       "      <td>1</td>\n",
       "    </tr>\n",
       "    <tr>\n",
       "      <th>116</th>\n",
       "      <td>1</td>\n",
       "      <td>0.40</td>\n",
       "      <td>1</td>\n",
       "      <td>0.00</td>\n",
       "      <td>0</td>\n",
       "      <td>0</td>\n",
       "      <td>0</td>\n",
       "      <td>0</td>\n",
       "      <td>4</td>\n",
       "      <td>150</td>\n",
       "      <td>164</td>\n",
       "      <td>1</td>\n",
       "    </tr>\n",
       "    <tr>\n",
       "      <th>117</th>\n",
       "      <td>1</td>\n",
       "      <td>0.00</td>\n",
       "      <td>2</td>\n",
       "      <td>0.00</td>\n",
       "      <td>0</td>\n",
       "      <td>0</td>\n",
       "      <td>0</td>\n",
       "      <td>0</td>\n",
       "      <td>3</td>\n",
       "      <td>833</td>\n",
       "      <td>3572</td>\n",
       "      <td>1</td>\n",
       "    </tr>\n",
       "    <tr>\n",
       "      <th>118</th>\n",
       "      <td>0</td>\n",
       "      <td>0.17</td>\n",
       "      <td>1</td>\n",
       "      <td>0.00</td>\n",
       "      <td>0</td>\n",
       "      <td>0</td>\n",
       "      <td>0</td>\n",
       "      <td>0</td>\n",
       "      <td>1</td>\n",
       "      <td>219</td>\n",
       "      <td>1695</td>\n",
       "      <td>1</td>\n",
       "    </tr>\n",
       "    <tr>\n",
       "      <th>119</th>\n",
       "      <td>1</td>\n",
       "      <td>0.44</td>\n",
       "      <td>1</td>\n",
       "      <td>0.00</td>\n",
       "      <td>0</td>\n",
       "      <td>0</td>\n",
       "      <td>0</td>\n",
       "      <td>0</td>\n",
       "      <td>3</td>\n",
       "      <td>39</td>\n",
       "      <td>68</td>\n",
       "      <td>1</td>\n",
       "    </tr>\n",
       "  </tbody>\n",
       "</table>\n",
       "<p>120 rows × 12 columns</p>\n",
       "</div>"
      ],
      "text/plain": [
       "     profile pic  nums/length username  fullname words  nums/length fullname  \\\n",
       "0              1                  0.33               1                  0.33   \n",
       "1              1                  0.00               5                  0.00   \n",
       "2              1                  0.00               2                  0.00   \n",
       "3              1                  0.00               1                  0.00   \n",
       "4              1                  0.50               1                  0.00   \n",
       "..           ...                   ...             ...                   ...   \n",
       "115            1                  0.29               1                  0.00   \n",
       "116            1                  0.40               1                  0.00   \n",
       "117            1                  0.00               2                  0.00   \n",
       "118            0                  0.17               1                  0.00   \n",
       "119            1                  0.44               1                  0.00   \n",
       "\n",
       "     name==username  description length  external URL  private  #posts  \\\n",
       "0                 1                  30             0        1      35   \n",
       "1                 0                  64             0        1       3   \n",
       "2                 0                  82             0        1     319   \n",
       "3                 0                 143             0        1     273   \n",
       "4                 0                  76             0        1       6   \n",
       "..              ...                 ...           ...      ...     ...   \n",
       "115               0                   0             0        0      13   \n",
       "116               0                   0             0        0       4   \n",
       "117               0                   0             0        0       3   \n",
       "118               0                   0             0        0       1   \n",
       "119               0                   0             0        0       3   \n",
       "\n",
       "     #followers  #follows  fake  \n",
       "0           488       604     0  \n",
       "1            35         6     0  \n",
       "2           328       668     0  \n",
       "3         14890      7369     0  \n",
       "4           225       356     0  \n",
       "..          ...       ...   ...  \n",
       "115         114       811     1  \n",
       "116         150       164     1  \n",
       "117         833      3572     1  \n",
       "118         219      1695     1  \n",
       "119          39        68     1  \n",
       "\n",
       "[120 rows x 12 columns]"
      ]
     },
     "execution_count": 4,
     "metadata": {},
     "output_type": "execute_result"
    }
   ],
   "source": [
    "# Load the testing data\n",
    "instagram_df_test=pd.read_csv('/kaggle/input/instagram-fake-spammer-genuine-accounts/test.csv')\n",
    "instagram_df_test"
   ]
  },
  {
   "cell_type": "markdown",
   "id": "6b056b8c",
   "metadata": {
    "papermill": {
     "duration": 0.009968,
     "end_time": "2023-01-09T20:15:06.320741",
     "exception": false,
     "start_time": "2023-01-09T20:15:06.310773",
     "status": "completed"
    },
    "tags": []
   },
   "source": [
    "# Statistical Analysis"
   ]
  },
  {
   "cell_type": "code",
   "execution_count": 5,
   "id": "bb067b3c",
   "metadata": {
    "execution": {
     "iopub.execute_input": "2023-01-09T20:15:06.342958Z",
     "iopub.status.busy": "2023-01-09T20:15:06.342240Z",
     "iopub.status.idle": "2023-01-09T20:15:06.358974Z",
     "shell.execute_reply": "2023-01-09T20:15:06.357728Z"
    },
    "papermill": {
     "duration": 0.030692,
     "end_time": "2023-01-09T20:15:06.361559",
     "exception": false,
     "start_time": "2023-01-09T20:15:06.330867",
     "status": "completed"
    },
    "tags": []
   },
   "outputs": [
    {
     "data": {
      "text/html": [
       "<div>\n",
       "<style scoped>\n",
       "    .dataframe tbody tr th:only-of-type {\n",
       "        vertical-align: middle;\n",
       "    }\n",
       "\n",
       "    .dataframe tbody tr th {\n",
       "        vertical-align: top;\n",
       "    }\n",
       "\n",
       "    .dataframe thead th {\n",
       "        text-align: right;\n",
       "    }\n",
       "</style>\n",
       "<table border=\"1\" class=\"dataframe\">\n",
       "  <thead>\n",
       "    <tr style=\"text-align: right;\">\n",
       "      <th></th>\n",
       "      <th>profile pic</th>\n",
       "      <th>nums/length username</th>\n",
       "      <th>fullname words</th>\n",
       "      <th>nums/length fullname</th>\n",
       "      <th>name==username</th>\n",
       "      <th>description length</th>\n",
       "      <th>external URL</th>\n",
       "      <th>private</th>\n",
       "      <th>#posts</th>\n",
       "      <th>#followers</th>\n",
       "      <th>#follows</th>\n",
       "      <th>fake</th>\n",
       "    </tr>\n",
       "  </thead>\n",
       "  <tbody>\n",
       "    <tr>\n",
       "      <th>0</th>\n",
       "      <td>1</td>\n",
       "      <td>0.27</td>\n",
       "      <td>0</td>\n",
       "      <td>0.0</td>\n",
       "      <td>0</td>\n",
       "      <td>53</td>\n",
       "      <td>0</td>\n",
       "      <td>0</td>\n",
       "      <td>32</td>\n",
       "      <td>1000</td>\n",
       "      <td>955</td>\n",
       "      <td>0</td>\n",
       "    </tr>\n",
       "    <tr>\n",
       "      <th>1</th>\n",
       "      <td>1</td>\n",
       "      <td>0.00</td>\n",
       "      <td>2</td>\n",
       "      <td>0.0</td>\n",
       "      <td>0</td>\n",
       "      <td>44</td>\n",
       "      <td>0</td>\n",
       "      <td>0</td>\n",
       "      <td>286</td>\n",
       "      <td>2740</td>\n",
       "      <td>533</td>\n",
       "      <td>0</td>\n",
       "    </tr>\n",
       "    <tr>\n",
       "      <th>2</th>\n",
       "      <td>1</td>\n",
       "      <td>0.10</td>\n",
       "      <td>2</td>\n",
       "      <td>0.0</td>\n",
       "      <td>0</td>\n",
       "      <td>0</td>\n",
       "      <td>0</td>\n",
       "      <td>1</td>\n",
       "      <td>13</td>\n",
       "      <td>159</td>\n",
       "      <td>98</td>\n",
       "      <td>0</td>\n",
       "    </tr>\n",
       "    <tr>\n",
       "      <th>3</th>\n",
       "      <td>1</td>\n",
       "      <td>0.00</td>\n",
       "      <td>1</td>\n",
       "      <td>0.0</td>\n",
       "      <td>0</td>\n",
       "      <td>82</td>\n",
       "      <td>0</td>\n",
       "      <td>0</td>\n",
       "      <td>679</td>\n",
       "      <td>414</td>\n",
       "      <td>651</td>\n",
       "      <td>0</td>\n",
       "    </tr>\n",
       "    <tr>\n",
       "      <th>4</th>\n",
       "      <td>1</td>\n",
       "      <td>0.00</td>\n",
       "      <td>2</td>\n",
       "      <td>0.0</td>\n",
       "      <td>0</td>\n",
       "      <td>0</td>\n",
       "      <td>0</td>\n",
       "      <td>1</td>\n",
       "      <td>6</td>\n",
       "      <td>151</td>\n",
       "      <td>126</td>\n",
       "      <td>0</td>\n",
       "    </tr>\n",
       "  </tbody>\n",
       "</table>\n",
       "</div>"
      ],
      "text/plain": [
       "   profile pic  nums/length username  fullname words  nums/length fullname  \\\n",
       "0            1                  0.27               0                   0.0   \n",
       "1            1                  0.00               2                   0.0   \n",
       "2            1                  0.10               2                   0.0   \n",
       "3            1                  0.00               1                   0.0   \n",
       "4            1                  0.00               2                   0.0   \n",
       "\n",
       "   name==username  description length  external URL  private  #posts  \\\n",
       "0               0                  53             0        0      32   \n",
       "1               0                  44             0        0     286   \n",
       "2               0                   0             0        1      13   \n",
       "3               0                  82             0        0     679   \n",
       "4               0                   0             0        1       6   \n",
       "\n",
       "   #followers  #follows  fake  \n",
       "0        1000       955     0  \n",
       "1        2740       533     0  \n",
       "2         159        98     0  \n",
       "3         414       651     0  \n",
       "4         151       126     0  "
      ]
     },
     "execution_count": 5,
     "metadata": {},
     "output_type": "execute_result"
    }
   ],
   "source": [
    "instagram_df_train.head()"
   ]
  },
  {
   "cell_type": "code",
   "execution_count": 6,
   "id": "d4f1d660",
   "metadata": {
    "execution": {
     "iopub.execute_input": "2023-01-09T20:15:06.383702Z",
     "iopub.status.busy": "2023-01-09T20:15:06.383234Z",
     "iopub.status.idle": "2023-01-09T20:15:06.399840Z",
     "shell.execute_reply": "2023-01-09T20:15:06.398619Z"
    },
    "papermill": {
     "duration": 0.030762,
     "end_time": "2023-01-09T20:15:06.402432",
     "exception": false,
     "start_time": "2023-01-09T20:15:06.371670",
     "status": "completed"
    },
    "tags": []
   },
   "outputs": [
    {
     "data": {
      "text/html": [
       "<div>\n",
       "<style scoped>\n",
       "    .dataframe tbody tr th:only-of-type {\n",
       "        vertical-align: middle;\n",
       "    }\n",
       "\n",
       "    .dataframe tbody tr th {\n",
       "        vertical-align: top;\n",
       "    }\n",
       "\n",
       "    .dataframe thead th {\n",
       "        text-align: right;\n",
       "    }\n",
       "</style>\n",
       "<table border=\"1\" class=\"dataframe\">\n",
       "  <thead>\n",
       "    <tr style=\"text-align: right;\">\n",
       "      <th></th>\n",
       "      <th>profile pic</th>\n",
       "      <th>nums/length username</th>\n",
       "      <th>fullname words</th>\n",
       "      <th>nums/length fullname</th>\n",
       "      <th>name==username</th>\n",
       "      <th>description length</th>\n",
       "      <th>external URL</th>\n",
       "      <th>private</th>\n",
       "      <th>#posts</th>\n",
       "      <th>#followers</th>\n",
       "      <th>#follows</th>\n",
       "      <th>fake</th>\n",
       "    </tr>\n",
       "  </thead>\n",
       "  <tbody>\n",
       "    <tr>\n",
       "      <th>571</th>\n",
       "      <td>1</td>\n",
       "      <td>0.55</td>\n",
       "      <td>1</td>\n",
       "      <td>0.44</td>\n",
       "      <td>0</td>\n",
       "      <td>0</td>\n",
       "      <td>0</td>\n",
       "      <td>0</td>\n",
       "      <td>33</td>\n",
       "      <td>166</td>\n",
       "      <td>596</td>\n",
       "      <td>1</td>\n",
       "    </tr>\n",
       "    <tr>\n",
       "      <th>572</th>\n",
       "      <td>1</td>\n",
       "      <td>0.38</td>\n",
       "      <td>1</td>\n",
       "      <td>0.33</td>\n",
       "      <td>0</td>\n",
       "      <td>21</td>\n",
       "      <td>0</td>\n",
       "      <td>0</td>\n",
       "      <td>44</td>\n",
       "      <td>66</td>\n",
       "      <td>75</td>\n",
       "      <td>1</td>\n",
       "    </tr>\n",
       "    <tr>\n",
       "      <th>573</th>\n",
       "      <td>1</td>\n",
       "      <td>0.57</td>\n",
       "      <td>2</td>\n",
       "      <td>0.00</td>\n",
       "      <td>0</td>\n",
       "      <td>0</td>\n",
       "      <td>0</td>\n",
       "      <td>0</td>\n",
       "      <td>4</td>\n",
       "      <td>96</td>\n",
       "      <td>339</td>\n",
       "      <td>1</td>\n",
       "    </tr>\n",
       "    <tr>\n",
       "      <th>574</th>\n",
       "      <td>1</td>\n",
       "      <td>0.57</td>\n",
       "      <td>1</td>\n",
       "      <td>0.00</td>\n",
       "      <td>0</td>\n",
       "      <td>11</td>\n",
       "      <td>0</td>\n",
       "      <td>0</td>\n",
       "      <td>0</td>\n",
       "      <td>57</td>\n",
       "      <td>73</td>\n",
       "      <td>1</td>\n",
       "    </tr>\n",
       "    <tr>\n",
       "      <th>575</th>\n",
       "      <td>1</td>\n",
       "      <td>0.27</td>\n",
       "      <td>1</td>\n",
       "      <td>0.00</td>\n",
       "      <td>0</td>\n",
       "      <td>0</td>\n",
       "      <td>0</td>\n",
       "      <td>0</td>\n",
       "      <td>2</td>\n",
       "      <td>150</td>\n",
       "      <td>487</td>\n",
       "      <td>1</td>\n",
       "    </tr>\n",
       "  </tbody>\n",
       "</table>\n",
       "</div>"
      ],
      "text/plain": [
       "     profile pic  nums/length username  fullname words  nums/length fullname  \\\n",
       "571            1                  0.55               1                  0.44   \n",
       "572            1                  0.38               1                  0.33   \n",
       "573            1                  0.57               2                  0.00   \n",
       "574            1                  0.57               1                  0.00   \n",
       "575            1                  0.27               1                  0.00   \n",
       "\n",
       "     name==username  description length  external URL  private  #posts  \\\n",
       "571               0                   0             0        0      33   \n",
       "572               0                  21             0        0      44   \n",
       "573               0                   0             0        0       4   \n",
       "574               0                  11             0        0       0   \n",
       "575               0                   0             0        0       2   \n",
       "\n",
       "     #followers  #follows  fake  \n",
       "571         166       596     1  \n",
       "572          66        75     1  \n",
       "573          96       339     1  \n",
       "574          57        73     1  \n",
       "575         150       487     1  "
      ]
     },
     "execution_count": 6,
     "metadata": {},
     "output_type": "execute_result"
    }
   ],
   "source": [
    "instagram_df_train.tail()"
   ]
  },
  {
   "cell_type": "code",
   "execution_count": 7,
   "id": "6bc7e6f8",
   "metadata": {
    "execution": {
     "iopub.execute_input": "2023-01-09T20:15:06.426372Z",
     "iopub.status.busy": "2023-01-09T20:15:06.425115Z",
     "iopub.status.idle": "2023-01-09T20:15:06.453578Z",
     "shell.execute_reply": "2023-01-09T20:15:06.451668Z"
    },
    "papermill": {
     "duration": 0.043153,
     "end_time": "2023-01-09T20:15:06.456261",
     "exception": false,
     "start_time": "2023-01-09T20:15:06.413108",
     "status": "completed"
    },
    "tags": []
   },
   "outputs": [
    {
     "name": "stdout",
     "output_type": "stream",
     "text": [
      "<class 'pandas.core.frame.DataFrame'>\n",
      "RangeIndex: 576 entries, 0 to 575\n",
      "Data columns (total 12 columns):\n",
      " #   Column                Non-Null Count  Dtype  \n",
      "---  ------                --------------  -----  \n",
      " 0   profile pic           576 non-null    int64  \n",
      " 1   nums/length username  576 non-null    float64\n",
      " 2   fullname words        576 non-null    int64  \n",
      " 3   nums/length fullname  576 non-null    float64\n",
      " 4   name==username        576 non-null    int64  \n",
      " 5   description length    576 non-null    int64  \n",
      " 6   external URL          576 non-null    int64  \n",
      " 7   private               576 non-null    int64  \n",
      " 8   #posts                576 non-null    int64  \n",
      " 9   #followers            576 non-null    int64  \n",
      " 10  #follows              576 non-null    int64  \n",
      " 11  fake                  576 non-null    int64  \n",
      "dtypes: float64(2), int64(10)\n",
      "memory usage: 54.1 KB\n"
     ]
    }
   ],
   "source": [
    "# Getting dataframe info\n",
    "instagram_df_train.info()"
   ]
  },
  {
   "cell_type": "code",
   "execution_count": 8,
   "id": "5e7d3450",
   "metadata": {
    "execution": {
     "iopub.execute_input": "2023-01-09T20:15:06.479211Z",
     "iopub.status.busy": "2023-01-09T20:15:06.478786Z",
     "iopub.status.idle": "2023-01-09T20:15:06.532297Z",
     "shell.execute_reply": "2023-01-09T20:15:06.531034Z"
    },
    "papermill": {
     "duration": 0.067902,
     "end_time": "2023-01-09T20:15:06.534823",
     "exception": false,
     "start_time": "2023-01-09T20:15:06.466921",
     "status": "completed"
    },
    "tags": []
   },
   "outputs": [
    {
     "data": {
      "text/html": [
       "<div>\n",
       "<style scoped>\n",
       "    .dataframe tbody tr th:only-of-type {\n",
       "        vertical-align: middle;\n",
       "    }\n",
       "\n",
       "    .dataframe tbody tr th {\n",
       "        vertical-align: top;\n",
       "    }\n",
       "\n",
       "    .dataframe thead th {\n",
       "        text-align: right;\n",
       "    }\n",
       "</style>\n",
       "<table border=\"1\" class=\"dataframe\">\n",
       "  <thead>\n",
       "    <tr style=\"text-align: right;\">\n",
       "      <th></th>\n",
       "      <th>profile pic</th>\n",
       "      <th>nums/length username</th>\n",
       "      <th>fullname words</th>\n",
       "      <th>nums/length fullname</th>\n",
       "      <th>name==username</th>\n",
       "      <th>description length</th>\n",
       "      <th>external URL</th>\n",
       "      <th>private</th>\n",
       "      <th>#posts</th>\n",
       "      <th>#followers</th>\n",
       "      <th>#follows</th>\n",
       "      <th>fake</th>\n",
       "    </tr>\n",
       "  </thead>\n",
       "  <tbody>\n",
       "    <tr>\n",
       "      <th>count</th>\n",
       "      <td>576.000000</td>\n",
       "      <td>576.000000</td>\n",
       "      <td>576.000000</td>\n",
       "      <td>576.000000</td>\n",
       "      <td>576.000000</td>\n",
       "      <td>576.000000</td>\n",
       "      <td>576.000000</td>\n",
       "      <td>576.000000</td>\n",
       "      <td>576.000000</td>\n",
       "      <td>5.760000e+02</td>\n",
       "      <td>576.000000</td>\n",
       "      <td>576.000000</td>\n",
       "    </tr>\n",
       "    <tr>\n",
       "      <th>mean</th>\n",
       "      <td>0.701389</td>\n",
       "      <td>0.163837</td>\n",
       "      <td>1.460069</td>\n",
       "      <td>0.036094</td>\n",
       "      <td>0.034722</td>\n",
       "      <td>22.623264</td>\n",
       "      <td>0.116319</td>\n",
       "      <td>0.381944</td>\n",
       "      <td>107.489583</td>\n",
       "      <td>8.530724e+04</td>\n",
       "      <td>508.381944</td>\n",
       "      <td>0.500000</td>\n",
       "    </tr>\n",
       "    <tr>\n",
       "      <th>std</th>\n",
       "      <td>0.458047</td>\n",
       "      <td>0.214096</td>\n",
       "      <td>1.052601</td>\n",
       "      <td>0.125121</td>\n",
       "      <td>0.183234</td>\n",
       "      <td>37.702987</td>\n",
       "      <td>0.320886</td>\n",
       "      <td>0.486285</td>\n",
       "      <td>402.034431</td>\n",
       "      <td>9.101485e+05</td>\n",
       "      <td>917.981239</td>\n",
       "      <td>0.500435</td>\n",
       "    </tr>\n",
       "    <tr>\n",
       "      <th>min</th>\n",
       "      <td>0.000000</td>\n",
       "      <td>0.000000</td>\n",
       "      <td>0.000000</td>\n",
       "      <td>0.000000</td>\n",
       "      <td>0.000000</td>\n",
       "      <td>0.000000</td>\n",
       "      <td>0.000000</td>\n",
       "      <td>0.000000</td>\n",
       "      <td>0.000000</td>\n",
       "      <td>0.000000e+00</td>\n",
       "      <td>0.000000</td>\n",
       "      <td>0.000000</td>\n",
       "    </tr>\n",
       "    <tr>\n",
       "      <th>25%</th>\n",
       "      <td>0.000000</td>\n",
       "      <td>0.000000</td>\n",
       "      <td>1.000000</td>\n",
       "      <td>0.000000</td>\n",
       "      <td>0.000000</td>\n",
       "      <td>0.000000</td>\n",
       "      <td>0.000000</td>\n",
       "      <td>0.000000</td>\n",
       "      <td>0.000000</td>\n",
       "      <td>3.900000e+01</td>\n",
       "      <td>57.500000</td>\n",
       "      <td>0.000000</td>\n",
       "    </tr>\n",
       "    <tr>\n",
       "      <th>50%</th>\n",
       "      <td>1.000000</td>\n",
       "      <td>0.000000</td>\n",
       "      <td>1.000000</td>\n",
       "      <td>0.000000</td>\n",
       "      <td>0.000000</td>\n",
       "      <td>0.000000</td>\n",
       "      <td>0.000000</td>\n",
       "      <td>0.000000</td>\n",
       "      <td>9.000000</td>\n",
       "      <td>1.505000e+02</td>\n",
       "      <td>229.500000</td>\n",
       "      <td>0.500000</td>\n",
       "    </tr>\n",
       "    <tr>\n",
       "      <th>75%</th>\n",
       "      <td>1.000000</td>\n",
       "      <td>0.310000</td>\n",
       "      <td>2.000000</td>\n",
       "      <td>0.000000</td>\n",
       "      <td>0.000000</td>\n",
       "      <td>34.000000</td>\n",
       "      <td>0.000000</td>\n",
       "      <td>1.000000</td>\n",
       "      <td>81.500000</td>\n",
       "      <td>7.160000e+02</td>\n",
       "      <td>589.500000</td>\n",
       "      <td>1.000000</td>\n",
       "    </tr>\n",
       "    <tr>\n",
       "      <th>max</th>\n",
       "      <td>1.000000</td>\n",
       "      <td>0.920000</td>\n",
       "      <td>12.000000</td>\n",
       "      <td>1.000000</td>\n",
       "      <td>1.000000</td>\n",
       "      <td>150.000000</td>\n",
       "      <td>1.000000</td>\n",
       "      <td>1.000000</td>\n",
       "      <td>7389.000000</td>\n",
       "      <td>1.533854e+07</td>\n",
       "      <td>7500.000000</td>\n",
       "      <td>1.000000</td>\n",
       "    </tr>\n",
       "  </tbody>\n",
       "</table>\n",
       "</div>"
      ],
      "text/plain": [
       "       profile pic  nums/length username  fullname words  \\\n",
       "count   576.000000            576.000000      576.000000   \n",
       "mean      0.701389              0.163837        1.460069   \n",
       "std       0.458047              0.214096        1.052601   \n",
       "min       0.000000              0.000000        0.000000   \n",
       "25%       0.000000              0.000000        1.000000   \n",
       "50%       1.000000              0.000000        1.000000   \n",
       "75%       1.000000              0.310000        2.000000   \n",
       "max       1.000000              0.920000       12.000000   \n",
       "\n",
       "       nums/length fullname  name==username  description length  external URL  \\\n",
       "count            576.000000      576.000000          576.000000    576.000000   \n",
       "mean               0.036094        0.034722           22.623264      0.116319   \n",
       "std                0.125121        0.183234           37.702987      0.320886   \n",
       "min                0.000000        0.000000            0.000000      0.000000   \n",
       "25%                0.000000        0.000000            0.000000      0.000000   \n",
       "50%                0.000000        0.000000            0.000000      0.000000   \n",
       "75%                0.000000        0.000000           34.000000      0.000000   \n",
       "max                1.000000        1.000000          150.000000      1.000000   \n",
       "\n",
       "          private       #posts    #followers     #follows        fake  \n",
       "count  576.000000   576.000000  5.760000e+02   576.000000  576.000000  \n",
       "mean     0.381944   107.489583  8.530724e+04   508.381944    0.500000  \n",
       "std      0.486285   402.034431  9.101485e+05   917.981239    0.500435  \n",
       "min      0.000000     0.000000  0.000000e+00     0.000000    0.000000  \n",
       "25%      0.000000     0.000000  3.900000e+01    57.500000    0.000000  \n",
       "50%      0.000000     9.000000  1.505000e+02   229.500000    0.500000  \n",
       "75%      1.000000    81.500000  7.160000e+02   589.500000    1.000000  \n",
       "max      1.000000  7389.000000  1.533854e+07  7500.000000    1.000000  "
      ]
     },
     "execution_count": 8,
     "metadata": {},
     "output_type": "execute_result"
    }
   ],
   "source": [
    "# Get the statistical summary of the dataframe\n",
    "instagram_df_train.describe()"
   ]
  },
  {
   "cell_type": "code",
   "execution_count": 9,
   "id": "1db84a72",
   "metadata": {
    "execution": {
     "iopub.execute_input": "2023-01-09T20:15:06.558524Z",
     "iopub.status.busy": "2023-01-09T20:15:06.557519Z",
     "iopub.status.idle": "2023-01-09T20:15:06.569188Z",
     "shell.execute_reply": "2023-01-09T20:15:06.567723Z"
    },
    "papermill": {
     "duration": 0.026499,
     "end_time": "2023-01-09T20:15:06.571995",
     "exception": false,
     "start_time": "2023-01-09T20:15:06.545496",
     "status": "completed"
    },
    "tags": []
   },
   "outputs": [
    {
     "data": {
      "text/plain": [
       "profile pic             0\n",
       "nums/length username    0\n",
       "fullname words          0\n",
       "nums/length fullname    0\n",
       "name==username          0\n",
       "description length      0\n",
       "external URL            0\n",
       "private                 0\n",
       "#posts                  0\n",
       "#followers              0\n",
       "#follows                0\n",
       "fake                    0\n",
       "dtype: int64"
      ]
     },
     "execution_count": 9,
     "metadata": {},
     "output_type": "execute_result"
    }
   ],
   "source": [
    "# Checking if null values exist\n",
    "instagram_df_train.isnull().sum()"
   ]
  },
  {
   "cell_type": "code",
   "execution_count": 10,
   "id": "39319dc4",
   "metadata": {
    "execution": {
     "iopub.execute_input": "2023-01-09T20:15:06.596261Z",
     "iopub.status.busy": "2023-01-09T20:15:06.595814Z",
     "iopub.status.idle": "2023-01-09T20:15:06.605005Z",
     "shell.execute_reply": "2023-01-09T20:15:06.603700Z"
    },
    "papermill": {
     "duration": 0.024987,
     "end_time": "2023-01-09T20:15:06.607946",
     "exception": false,
     "start_time": "2023-01-09T20:15:06.582959",
     "status": "completed"
    },
    "tags": []
   },
   "outputs": [
    {
     "data": {
      "text/plain": [
       "1    404\n",
       "0    172\n",
       "Name: profile pic, dtype: int64"
      ]
     },
     "execution_count": 10,
     "metadata": {},
     "output_type": "execute_result"
    }
   ],
   "source": [
    "# Get the number of unique values in the \"profile pic\" feature\n",
    "instagram_df_train['profile pic'].value_counts()"
   ]
  },
  {
   "cell_type": "code",
   "execution_count": 11,
   "id": "8248c3a2",
   "metadata": {
    "execution": {
     "iopub.execute_input": "2023-01-09T20:15:06.633320Z",
     "iopub.status.busy": "2023-01-09T20:15:06.632479Z",
     "iopub.status.idle": "2023-01-09T20:15:06.641672Z",
     "shell.execute_reply": "2023-01-09T20:15:06.640796Z"
    },
    "papermill": {
     "duration": 0.02415,
     "end_time": "2023-01-09T20:15:06.643952",
     "exception": false,
     "start_time": "2023-01-09T20:15:06.619802",
     "status": "completed"
    },
    "tags": []
   },
   "outputs": [
    {
     "data": {
      "text/plain": [
       "0    288\n",
       "1    288\n",
       "Name: fake, dtype: int64"
      ]
     },
     "execution_count": 11,
     "metadata": {},
     "output_type": "execute_result"
    }
   ],
   "source": [
    "# Get the number of unique values in \"fake\" (Target column)\n",
    "instagram_df_train['fake'].value_counts()"
   ]
  },
  {
   "cell_type": "markdown",
   "id": "455d8057",
   "metadata": {
    "papermill": {
     "duration": 0.011112,
     "end_time": "2023-01-09T20:15:06.666035",
     "exception": false,
     "start_time": "2023-01-09T20:15:06.654923",
     "status": "completed"
    },
    "tags": []
   },
   "source": [
    "# Data Visualization"
   ]
  },
  {
   "cell_type": "code",
   "execution_count": 12,
   "id": "3737c172",
   "metadata": {
    "execution": {
     "iopub.execute_input": "2023-01-09T20:15:06.691666Z",
     "iopub.status.busy": "2023-01-09T20:15:06.691069Z",
     "iopub.status.idle": "2023-01-09T20:15:06.858983Z",
     "shell.execute_reply": "2023-01-09T20:15:06.858127Z"
    },
    "papermill": {
     "duration": 0.183661,
     "end_time": "2023-01-09T20:15:06.861610",
     "exception": false,
     "start_time": "2023-01-09T20:15:06.677949",
     "status": "completed"
    },
    "tags": []
   },
   "outputs": [
    {
     "data": {
      "image/png": "[encoded data removed]",
      "text/plain": [
       "<Figure size 432x288 with 1 Axes>"
      ]
     },
     "metadata": {
      "needs_background": "light"
     },
     "output_type": "display_data"
    }
   ],
   "source": [
    "# Visualize the data\n",
    "sns.countplot(instagram_df_train['fake'])\n",
    "plt.show()"
   ]
  },
  {
   "cell_type": "code",
   "execution_count": 13,
   "id": "92b66ac0",
   "metadata": {
    "execution": {
     "iopub.execute_input": "2023-01-09T20:15:06.885977Z",
     "iopub.status.busy": "2023-01-09T20:15:06.885225Z",
     "iopub.status.idle": "2023-01-09T20:15:07.061102Z",
     "shell.execute_reply": "2023-01-09T20:15:07.059909Z"
    },
    "papermill": {
     "duration": 0.191059,
     "end_time": "2023-01-09T20:15:07.063898",
     "exception": false,
     "start_time": "2023-01-09T20:15:06.872839",
     "status": "completed"
    },
    "tags": []
   },
   "outputs": [
    {
     "data": {
      "image/png": "[encoded data removed]",
      "text/plain": [
       "<Figure size 432x288 with 1 Axes>"
      ]
     },
     "metadata": {
      "needs_background": "light"
     },
     "output_type": "display_data"
    }
   ],
   "source": [
    "# Visualize the private column data\n",
    "sns.countplot(instagram_df_train['private'])\n",
    "plt.show()"
   ]
  },
  {
   "cell_type": "code",
   "execution_count": 14,
   "id": "2e2172c4",
   "metadata": {
    "execution": {
     "iopub.execute_input": "2023-01-09T20:15:07.089266Z",
     "iopub.status.busy": "2023-01-09T20:15:07.088750Z",
     "iopub.status.idle": "2023-01-09T20:15:07.272769Z",
     "shell.execute_reply": "2023-01-09T20:15:07.271165Z"
    },
    "papermill": {
     "duration": 0.199682,
     "end_time": "2023-01-09T20:15:07.275555",
     "exception": false,
     "start_time": "2023-01-09T20:15:07.075873",
     "status": "completed"
    },
    "tags": []
   },
   "outputs": [
    {
     "data": {
      "image/png": "[encoded data removed]",
      "text/plain": [
       "<Figure size 432x288 with 1 Axes>"
      ]
     },
     "metadata": {
      "needs_background": "light"
     },
     "output_type": "display_data"
    }
   ],
   "source": [
    "# Visualize the \"profile pic\" column data\n",
    "sns.countplot(instagram_df_train['profile pic'])\n",
    "plt.show()"
   ]
  },
  {
   "cell_type": "code",
   "execution_count": 15,
   "id": "656f2733",
   "metadata": {
    "execution": {
     "iopub.execute_input": "2023-01-09T20:15:07.300194Z",
     "iopub.status.busy": "2023-01-09T20:15:07.299788Z",
     "iopub.status.idle": "2023-01-09T20:15:07.610877Z",
     "shell.execute_reply": "2023-01-09T20:15:07.609394Z"
    },
    "papermill": {
     "duration": 0.326287,
     "end_time": "2023-01-09T20:15:07.613516",
     "exception": false,
     "start_time": "2023-01-09T20:15:07.287229",
     "status": "completed"
    },
    "tags": []
   },
   "outputs": [
    {
     "data": {
      "image/png": "[encoded data removed]",
      "text/plain": [
       "<Figure size 1440x720 with 1 Axes>"
      ]
     },
     "metadata": {
      "needs_background": "light"
     },
     "output_type": "display_data"
    }
   ],
   "source": [
    "# Visualize the data\n",
    "plt.figure(figsize = (20, 10))\n",
    "sns.distplot(instagram_df_train['nums/length username'])\n",
    "plt.show()"
   ]
  },
  {
   "cell_type": "code",
   "execution_count": 16,
   "id": "8f4d1a63",
   "metadata": {
    "execution": {
     "iopub.execute_input": "2023-01-09T20:15:07.639769Z",
     "iopub.status.busy": "2023-01-09T20:15:07.639311Z",
     "iopub.status.idle": "2023-01-09T20:15:08.696896Z",
     "shell.execute_reply": "2023-01-09T20:15:08.695530Z"
    },
    "papermill": {
     "duration": 1.074486,
     "end_time": "2023-01-09T20:15:08.700326",
     "exception": false,
     "start_time": "2023-01-09T20:15:07.625840",
     "status": "completed"
    },
    "tags": []
   },
   "outputs": [
    {
     "data": {
      "image/png": "[encoded data removed]",
      "text/plain": [
       "<Figure size 1440x1440 with 2 Axes>"
      ]
     },
     "metadata": {
      "needs_background": "light"
     },
     "output_type": "display_data"
    }
   ],
   "source": [
    "# Correlation plot\n",
    "plt.figure(figsize=(20, 20))\n",
    "cm = instagram_df_train.corr()\n",
    "ax = plt.subplot()\n",
    "sns.heatmap(cm, annot = True, ax = ax)\n",
    "plt.show()"
   ]
  },
  {
   "cell_type": "markdown",
   "id": "c07a4e03",
   "metadata": {
    "papermill": {
     "duration": 0.014251,
     "end_time": "2023-01-09T20:15:08.729982",
     "exception": false,
     "start_time": "2023-01-09T20:15:08.715731",
     "status": "completed"
    },
    "tags": []
   },
   "source": [
    "# Data Modelling"
   ]
  },
  {
   "cell_type": "code",
   "execution_count": 17,
   "id": "f71b9621",
   "metadata": {
    "execution": {
     "iopub.execute_input": "2023-01-09T20:15:08.761115Z",
     "iopub.status.busy": "2023-01-09T20:15:08.760662Z",
     "iopub.status.idle": "2023-01-09T20:15:08.784021Z",
     "shell.execute_reply": "2023-01-09T20:15:08.783132Z"
    },
    "papermill": {
     "duration": 0.041357,
     "end_time": "2023-01-09T20:15:08.786320",
     "exception": false,
     "start_time": "2023-01-09T20:15:08.744963",
     "status": "completed"
    },
    "tags": []
   },
   "outputs": [
    {
     "data": {
      "text/html": [
       "<div>\n",
       "<style scoped>\n",
       "    .dataframe tbody tr th:only-of-type {\n",
       "        vertical-align: middle;\n",
       "    }\n",
       "\n",
       "    .dataframe tbody tr th {\n",
       "        vertical-align: top;\n",
       "    }\n",
       "\n",
       "    .dataframe thead th {\n",
       "        text-align: right;\n",
       "    }\n",
       "</style>\n",
       "<table border=\"1\" class=\"dataframe\">\n",
       "  <thead>\n",
       "    <tr style=\"text-align: right;\">\n",
       "      <th></th>\n",
       "      <th>profile pic</th>\n",
       "      <th>nums/length username</th>\n",
       "      <th>fullname words</th>\n",
       "      <th>nums/length fullname</th>\n",
       "      <th>name==username</th>\n",
       "      <th>description length</th>\n",
       "      <th>external URL</th>\n",
       "      <th>private</th>\n",
       "      <th>#posts</th>\n",
       "      <th>#followers</th>\n",
       "      <th>#follows</th>\n",
       "    </tr>\n",
       "  </thead>\n",
       "  <tbody>\n",
       "    <tr>\n",
       "      <th>0</th>\n",
       "      <td>1</td>\n",
       "      <td>0.27</td>\n",
       "      <td>0</td>\n",
       "      <td>0.00</td>\n",
       "      <td>0</td>\n",
       "      <td>53</td>\n",
       "      <td>0</td>\n",
       "      <td>0</td>\n",
       "      <td>32</td>\n",
       "      <td>1000</td>\n",
       "      <td>955</td>\n",
       "    </tr>\n",
       "    <tr>\n",
       "      <th>1</th>\n",
       "      <td>1</td>\n",
       "      <td>0.00</td>\n",
       "      <td>2</td>\n",
       "      <td>0.00</td>\n",
       "      <td>0</td>\n",
       "      <td>44</td>\n",
       "      <td>0</td>\n",
       "      <td>0</td>\n",
       "      <td>286</td>\n",
       "      <td>2740</td>\n",
       "      <td>533</td>\n",
       "    </tr>\n",
       "    <tr>\n",
       "      <th>2</th>\n",
       "      <td>1</td>\n",
       "      <td>0.10</td>\n",
       "      <td>2</td>\n",
       "      <td>0.00</td>\n",
       "      <td>0</td>\n",
       "      <td>0</td>\n",
       "      <td>0</td>\n",
       "      <td>1</td>\n",
       "      <td>13</td>\n",
       "      <td>159</td>\n",
       "      <td>98</td>\n",
       "    </tr>\n",
       "    <tr>\n",
       "      <th>3</th>\n",
       "      <td>1</td>\n",
       "      <td>0.00</td>\n",
       "      <td>1</td>\n",
       "      <td>0.00</td>\n",
       "      <td>0</td>\n",
       "      <td>82</td>\n",
       "      <td>0</td>\n",
       "      <td>0</td>\n",
       "      <td>679</td>\n",
       "      <td>414</td>\n",
       "      <td>651</td>\n",
       "    </tr>\n",
       "    <tr>\n",
       "      <th>4</th>\n",
       "      <td>1</td>\n",
       "      <td>0.00</td>\n",
       "      <td>2</td>\n",
       "      <td>0.00</td>\n",
       "      <td>0</td>\n",
       "      <td>0</td>\n",
       "      <td>0</td>\n",
       "      <td>1</td>\n",
       "      <td>6</td>\n",
       "      <td>151</td>\n",
       "      <td>126</td>\n",
       "    </tr>\n",
       "    <tr>\n",
       "      <th>...</th>\n",
       "      <td>...</td>\n",
       "      <td>...</td>\n",
       "      <td>...</td>\n",
       "      <td>...</td>\n",
       "      <td>...</td>\n",
       "      <td>...</td>\n",
       "      <td>...</td>\n",
       "      <td>...</td>\n",
       "      <td>...</td>\n",
       "      <td>...</td>\n",
       "      <td>...</td>\n",
       "    </tr>\n",
       "    <tr>\n",
       "      <th>571</th>\n",
       "      <td>1</td>\n",
       "      <td>0.55</td>\n",
       "      <td>1</td>\n",
       "      <td>0.44</td>\n",
       "      <td>0</td>\n",
       "      <td>0</td>\n",
       "      <td>0</td>\n",
       "      <td>0</td>\n",
       "      <td>33</td>\n",
       "      <td>166</td>\n",
       "      <td>596</td>\n",
       "    </tr>\n",
       "    <tr>\n",
       "      <th>572</th>\n",
       "      <td>1</td>\n",
       "      <td>0.38</td>\n",
       "      <td>1</td>\n",
       "      <td>0.33</td>\n",
       "      <td>0</td>\n",
       "      <td>21</td>\n",
       "      <td>0</td>\n",
       "      <td>0</td>\n",
       "      <td>44</td>\n",
       "      <td>66</td>\n",
       "      <td>75</td>\n",
       "    </tr>\n",
       "    <tr>\n",
       "      <th>573</th>\n",
       "      <td>1</td>\n",
       "      <td>0.57</td>\n",
       "      <td>2</td>\n",
       "      <td>0.00</td>\n",
       "      <td>0</td>\n",
       "      <td>0</td>\n",
       "      <td>0</td>\n",
       "      <td>0</td>\n",
       "      <td>4</td>\n",
       "      <td>96</td>\n",
       "      <td>339</td>\n",
       "    </tr>\n",
       "    <tr>\n",
       "      <th>574</th>\n",
       "      <td>1</td>\n",
       "      <td>0.57</td>\n",
       "      <td>1</td>\n",
       "      <td>0.00</td>\n",
       "      <td>0</td>\n",
       "      <td>11</td>\n",
       "      <td>0</td>\n",
       "      <td>0</td>\n",
       "      <td>0</td>\n",
       "      <td>57</td>\n",
       "      <td>73</td>\n",
       "    </tr>\n",
       "    <tr>\n",
       "      <th>575</th>\n",
       "      <td>1</td>\n",
       "      <td>0.27</td>\n",
       "      <td>1</td>\n",
       "      <td>0.00</td>\n",
       "      <td>0</td>\n",
       "      <td>0</td>\n",
       "      <td>0</td>\n",
       "      <td>0</td>\n",
       "      <td>2</td>\n",
       "      <td>150</td>\n",
       "      <td>487</td>\n",
       "    </tr>\n",
       "  </tbody>\n",
       "</table>\n",
       "<p>576 rows × 11 columns</p>\n",
       "</div>"
      ],
      "text/plain": [
       "     profile pic  nums/length username  fullname words  nums/length fullname  \\\n",
       "0              1                  0.27               0                  0.00   \n",
       "1              1                  0.00               2                  0.00   \n",
       "2              1                  0.10               2                  0.00   \n",
       "3              1                  0.00               1                  0.00   \n",
       "4              1                  0.00               2                  0.00   \n",
       "..           ...                   ...             ...                   ...   \n",
       "571            1                  0.55               1                  0.44   \n",
       "572            1                  0.38               1                  0.33   \n",
       "573            1                  0.57               2                  0.00   \n",
       "574            1                  0.57               1                  0.00   \n",
       "575            1                  0.27               1                  0.00   \n",
       "\n",
       "     name==username  description length  external URL  private  #posts  \\\n",
       "0                 0                  53             0        0      32   \n",
       "1                 0                  44             0        0     286   \n",
       "2                 0                   0             0        1      13   \n",
       "3                 0                  82             0        0     679   \n",
       "4                 0                   0             0        1       6   \n",
       "..              ...                 ...           ...      ...     ...   \n",
       "571               0                   0             0        0      33   \n",
       "572               0                  21             0        0      44   \n",
       "573               0                   0             0        0       4   \n",
       "574               0                  11             0        0       0   \n",
       "575               0                   0             0        0       2   \n",
       "\n",
       "     #followers  #follows  \n",
       "0          1000       955  \n",
       "1          2740       533  \n",
       "2           159        98  \n",
       "3           414       651  \n",
       "4           151       126  \n",
       "..          ...       ...  \n",
       "571         166       596  \n",
       "572          66        75  \n",
       "573          96       339  \n",
       "574          57        73  \n",
       "575         150       487  \n",
       "\n",
       "[576 rows x 11 columns]"
      ]
     },
     "execution_count": 17,
     "metadata": {},
     "output_type": "execute_result"
    }
   ],
   "source": [
    "# Training and testing dataset (inputs)\n",
    "X_train = instagram_df_train.drop(columns = ['fake'])\n",
    "X_test = instagram_df_test.drop(columns = ['fake'])\n",
    "X_train"
   ]
  },
  {
   "cell_type": "code",
   "execution_count": 18,
   "id": "94d6e419",
   "metadata": {
    "execution": {
     "iopub.execute_input": "2023-01-09T20:15:08.820819Z",
     "iopub.status.busy": "2023-01-09T20:15:08.820026Z",
     "iopub.status.idle": "2023-01-09T20:15:08.829008Z",
     "shell.execute_reply": "2023-01-09T20:15:08.827680Z"
    },
    "papermill": {
     "duration": 0.029957,
     "end_time": "2023-01-09T20:15:08.831415",
     "exception": false,
     "start_time": "2023-01-09T20:15:08.801458",
     "status": "completed"
    },
    "tags": []
   },
   "outputs": [
    {
     "data": {
      "text/plain": [
       "0      0\n",
       "1      0\n",
       "2      0\n",
       "3      0\n",
       "4      0\n",
       "      ..\n",
       "571    1\n",
       "572    1\n",
       "573    1\n",
       "574    1\n",
       "575    1\n",
       "Name: fake, Length: 576, dtype: int64"
      ]
     },
     "execution_count": 18,
     "metadata": {},
     "output_type": "execute_result"
    }
   ],
   "source": [
    "# Training and testing dataset (Outputs)\n",
    "y_train = instagram_df_train['fake']\n",
    "y_test = instagram_df_test['fake']\n",
    "y_train"
   ]
  },
  {
   "cell_type": "code",
   "execution_count": 19,
   "id": "3d27a24c",
   "metadata": {
    "execution": {
     "iopub.execute_input": "2023-01-09T20:15:08.862449Z",
     "iopub.status.busy": "2023-01-09T20:15:08.861978Z",
     "iopub.status.idle": "2023-01-09T20:15:08.875966Z",
     "shell.execute_reply": "2023-01-09T20:15:08.874493Z"
    },
    "papermill": {
     "duration": 0.033243,
     "end_time": "2023-01-09T20:15:08.879239",
     "exception": false,
     "start_time": "2023-01-09T20:15:08.845996",
     "status": "completed"
    },
    "tags": []
   },
   "outputs": [],
   "source": [
    "# Scale the data before training the model\n",
    "from sklearn.preprocessing import StandardScaler, MinMaxScaler\n",
    "\n",
    "scaler_x = StandardScaler()\n",
    "X_train = scaler_x.fit_transform(X_train)\n",
    "X_test = scaler_x.transform(X_test)"
   ]
  },
  {
   "cell_type": "code",
   "execution_count": 20,
   "id": "c909d7ec",
   "metadata": {
    "execution": {
     "iopub.execute_input": "2023-01-09T20:15:08.910784Z",
     "iopub.status.busy": "2023-01-09T20:15:08.910344Z",
     "iopub.status.idle": "2023-01-09T20:15:08.916515Z",
     "shell.execute_reply": "2023-01-09T20:15:08.915401Z"
    },
    "papermill": {
     "duration": 0.024565,
     "end_time": "2023-01-09T20:15:08.918788",
     "exception": false,
     "start_time": "2023-01-09T20:15:08.894223",
     "status": "completed"
    },
    "tags": []
   },
   "outputs": [],
   "source": [
    "y_train = tf.keras.utils.to_categorical(y_train, num_classes = 2)\n",
    "y_test = tf.keras.utils.to_categorical(y_test, num_classes = 2)"
   ]
  },
  {
   "cell_type": "code",
   "execution_count": 21,
   "id": "b561f01f",
   "metadata": {
    "execution": {
     "iopub.execute_input": "2023-01-09T20:15:08.949767Z",
     "iopub.status.busy": "2023-01-09T20:15:08.949295Z",
     "iopub.status.idle": "2023-01-09T20:15:08.957512Z",
     "shell.execute_reply": "2023-01-09T20:15:08.956355Z"
    },
    "papermill": {
     "duration": 0.026639,
     "end_time": "2023-01-09T20:15:08.960011",
     "exception": false,
     "start_time": "2023-01-09T20:15:08.933372",
     "status": "completed"
    },
    "tags": []
   },
   "outputs": [
    {
     "data": {
      "text/plain": [
       "array([[1., 0.],\n",
       "       [1., 0.],\n",
       "       [1., 0.],\n",
       "       ...,\n",
       "       [0., 1.],\n",
       "       [0., 1.],\n",
       "       [0., 1.]], dtype=float32)"
      ]
     },
     "execution_count": 21,
     "metadata": {},
     "output_type": "execute_result"
    }
   ],
   "source": [
    "y_train"
   ]
  },
  {
   "cell_type": "code",
   "execution_count": 22,
   "id": "21550e53",
   "metadata": {
    "execution": {
     "iopub.execute_input": "2023-01-09T20:15:08.990415Z",
     "iopub.status.busy": "2023-01-09T20:15:08.989994Z",
     "iopub.status.idle": "2023-01-09T20:15:09.165792Z",
     "shell.execute_reply": "2023-01-09T20:15:09.163372Z"
    },
    "papermill": {
     "duration": 0.194174,
     "end_time": "2023-01-09T20:15:09.168618",
     "exception": false,
     "start_time": "2023-01-09T20:15:08.974444",
     "status": "completed"
    },
    "tags": []
   },
   "outputs": [
    {
     "name": "stdout",
     "output_type": "stream",
     "text": [
      "Model: \"sequential\"\n",
      "_________________________________________________________________\n",
      "Layer (type)                 Output Shape              Param #   \n",
      "=================================================================\n",
      "dense (Dense)                (None, 50)                600       \n",
      "_________________________________________________________________\n",
      "dense_1 (Dense)              (None, 150)               7650      \n",
      "_________________________________________________________________\n",
      "dropout (Dropout)            (None, 150)               0         \n",
      "_________________________________________________________________\n",
      "dense_2 (Dense)              (None, 150)               22650     \n",
      "_________________________________________________________________\n",
      "dropout_1 (Dropout)          (None, 150)               0         \n",
      "_________________________________________________________________\n",
      "dense_3 (Dense)              (None, 25)                3775      \n",
      "_________________________________________________________________\n",
      "dropout_2 (Dropout)          (None, 25)                0         \n",
      "_________________________________________________________________\n",
      "dense_4 (Dense)              (None, 2)                 52        \n",
      "=================================================================\n",
      "Total params: 34,727\n",
      "Trainable params: 34,727\n",
      "Non-trainable params: 0\n",
      "_________________________________________________________________\n"
     ]
    },
    {
     "name": "stderr",
     "output_type": "stream",
     "text": [
      "2023-01-09 20:15:09.036535: I tensorflow/core/common_runtime/process_util.cc:146] Creating new thread pool with default inter op setting: 2. Tune using inter_op_parallelism_threads for best performance.\n"
     ]
    }
   ],
   "source": [
    "import tensorflow.keras\n",
    "from tensorflow.keras.models import Sequential\n",
    "from tensorflow.keras.layers import Dense, Dropout\n",
    "\n",
    "model = Sequential()\n",
    "model.add(Dense(50, input_dim=11, activation='relu'))\n",
    "model.add(Dense(150, activation='relu'))\n",
    "model.add(Dropout(0.3))\n",
    "model.add(Dense(150, activation='relu'))\n",
    "model.add(Dropout(0.3))\n",
    "model.add(Dense(25, activation='relu'))\n",
    "model.add(Dropout(0.3))\n",
    "model.add(Dense(2,activation='softmax'))\n",
    "\n",
    "model.summary()"
   ]
  },
  {
   "cell_type": "code",
   "execution_count": null,
   "id": "c0f81eef",
   "metadata": {
    "execution": {
     "iopub.execute_input": "2023-01-09T20:15:09.201436Z",
     "iopub.status.busy": "2023-01-09T20:15:09.200961Z",
     "iopub.status.idle": "2023-01-09T20:15:09.216573Z",
     "shell.execute_reply": "2023-01-09T20:15:09.215534Z"
    },
    "papermill": {
     "duration": 0.035534,
     "end_time": "2023-01-09T20:15:09.219413",
     "exception": false,
     "start_time": "2023-01-09T20:15:09.183879",
     "status": "completed"
    },
    "tags": []
   },
   "outputs": [],
   "source": [
    "model.compile(optimizer = 'adam', loss = 'categorical_crossentropy', metrics = ['accuracy'])"
   ]
  },
  {
   "cell_type": "code",
   "execution_count": 24,
   "id": "b8e1d18c",
   "metadata": {
    "execution": {
     "iopub.execute_input": "2023-01-09T20:15:09.252539Z",
     "iopub.status.busy": "2023-01-09T20:15:09.252121Z",
     "iopub.status.idle": "2023-01-09T20:15:16.608435Z",
     "shell.execute_reply": "2023-01-09T20:15:16.606850Z"
    },
    "papermill": {
     "duration": 7.376357,
     "end_time": "2023-01-09T20:15:16.611823",
     "exception": false,
     "start_time": "2023-01-09T20:15:09.235466",
     "status": "completed"
    },
    "tags": []
   },
   "outputs": [
    {
     "name": "stderr",
     "output_type": "stream",
     "text": [
      "2023-01-09 20:15:09.350938: I tensorflow/compiler/mlir/mlir_graph_optimization_pass.cc:185] None of the MLIR Optimization Passes are enabled (registered 2)\n"
     ]
    },
    {
     "name": "stdout",
     "output_type": "stream",
     "text": [
      "Epoch 1/50\n",
      "17/17 [==============================] - 1s 20ms/step - loss: 0.5756 - accuracy: 0.7548 - val_loss: 0.4234 - val_accuracy: 0.8103\n",
      "Epoch 2/50\n",
      "17/17 [==============================] - 0s 7ms/step - loss: 0.3703 - accuracy: 0.8745 - val_loss: 0.2164 - val_accuracy: 0.8966\n",
      "Epoch 3/50\n",
      "17/17 [==============================] - 0s 6ms/step - loss: 0.3025 - accuracy: 0.8822 - val_loss: 0.1624 - val_accuracy: 0.9310\n",
      "Epoch 4/50\n",
      "17/17 [==============================] - 0s 6ms/step - loss: 0.2684 - accuracy: 0.8938 - val_loss: 0.1366 - val_accuracy: 0.9310\n",
      "Epoch 5/50\n",
      "17/17 [==============================] - 0s 6ms/step - loss: 0.2551 - accuracy: 0.9093 - val_loss: 0.1516 - val_accuracy: 0.9138\n",
      "Epoch 6/50\n",
      "17/17 [==============================] - 0s 6ms/step - loss: 0.2396 - accuracy: 0.9131 - val_loss: 0.1576 - val_accuracy: 0.8966\n",
      "Epoch 7/50\n",
      "17/17 [==============================] - 0s 6ms/step - loss: 0.2302 - accuracy: 0.9170 - val_loss: 0.1336 - val_accuracy: 0.9138\n",
      "Epoch 8/50\n",
      "17/17 [==============================] - 0s 6ms/step - loss: 0.2287 - accuracy: 0.9131 - val_loss: 0.1675 - val_accuracy: 0.8966\n",
      "Epoch 9/50\n",
      "17/17 [==============================] - 0s 7ms/step - loss: 0.2133 - accuracy: 0.9189 - val_loss: 0.1398 - val_accuracy: 0.8966\n",
      "Epoch 10/50\n",
      "17/17 [==============================] - 0s 7ms/step - loss: 0.1988 - accuracy: 0.9189 - val_loss: 0.1772 - val_accuracy: 0.8966\n",
      "Epoch 11/50\n",
      "17/17 [==============================] - 0s 14ms/step - loss: 0.2178 - accuracy: 0.9131 - val_loss: 0.1291 - val_accuracy: 0.9310\n",
      "Epoch 12/50\n",
      "17/17 [==============================] - 0s 9ms/step - loss: 0.1935 - accuracy: 0.9247 - val_loss: 0.1909 - val_accuracy: 0.9138\n",
      "Epoch 13/50\n",
      "17/17 [==============================] - 0s 16ms/step - loss: 0.1848 - accuracy: 0.9266 - val_loss: 0.1441 - val_accuracy: 0.9310\n",
      "Epoch 14/50\n",
      "17/17 [==============================] - 0s 11ms/step - loss: 0.1890 - accuracy: 0.9228 - val_loss: 0.1707 - val_accuracy: 0.9310\n",
      "Epoch 15/50\n",
      "17/17 [==============================] - 0s 11ms/step - loss: 0.1874 - accuracy: 0.9305 - val_loss: 0.1853 - val_accuracy: 0.9138\n",
      "Epoch 16/50\n",
      "17/17 [==============================] - 0s 7ms/step - loss: 0.1950 - accuracy: 0.9402 - val_loss: 0.2080 - val_accuracy: 0.8966\n",
      "Epoch 17/50\n",
      "17/17 [==============================] - 0s 6ms/step - loss: 0.1829 - accuracy: 0.9170 - val_loss: 0.2070 - val_accuracy: 0.9138\n",
      "Epoch 18/50\n",
      "17/17 [==============================] - 0s 6ms/step - loss: 0.1768 - accuracy: 0.9305 - val_loss: 0.2396 - val_accuracy: 0.9138\n",
      "Epoch 19/50\n",
      "17/17 [==============================] - 0s 6ms/step - loss: 0.1689 - accuracy: 0.9305 - val_loss: 0.2563 - val_accuracy: 0.9138\n",
      "Epoch 20/50\n",
      "17/17 [==============================] - 0s 7ms/step - loss: 0.1439 - accuracy: 0.9402 - val_loss: 0.3116 - val_accuracy: 0.9138\n",
      "Epoch 21/50\n",
      "17/17 [==============================] - 0s 6ms/step - loss: 0.1555 - accuracy: 0.9382 - val_loss: 0.2582 - val_accuracy: 0.9138\n",
      "Epoch 22/50\n",
      "17/17 [==============================] - 0s 6ms/step - loss: 0.1497 - accuracy: 0.9266 - val_loss: 0.2674 - val_accuracy: 0.9138\n",
      "Epoch 23/50\n",
      "17/17 [==============================] - 0s 7ms/step - loss: 0.1656 - accuracy: 0.9305 - val_loss: 0.2727 - val_accuracy: 0.9138\n",
      "Epoch 24/50\n",
      "17/17 [==============================] - 0s 6ms/step - loss: 0.1503 - accuracy: 0.9421 - val_loss: 0.2430 - val_accuracy: 0.9138\n",
      "Epoch 25/50\n",
      "17/17 [==============================] - 0s 7ms/step - loss: 0.1464 - accuracy: 0.9382 - val_loss: 0.3257 - val_accuracy: 0.8966\n",
      "Epoch 26/50\n",
      "17/17 [==============================] - 0s 7ms/step - loss: 0.1601 - accuracy: 0.9363 - val_loss: 0.3030 - val_accuracy: 0.9138\n",
      "Epoch 27/50\n",
      "17/17 [==============================] - 0s 6ms/step - loss: 0.1413 - accuracy: 0.9402 - val_loss: 0.3115 - val_accuracy: 0.9138\n",
      "Epoch 28/50\n",
      "17/17 [==============================] - 0s 7ms/step - loss: 0.1556 - accuracy: 0.9324 - val_loss: 0.2782 - val_accuracy: 0.9138\n",
      "Epoch 29/50\n",
      "17/17 [==============================] - 0s 6ms/step - loss: 0.1367 - accuracy: 0.9382 - val_loss: 0.3599 - val_accuracy: 0.8966\n",
      "Epoch 30/50\n",
      "17/17 [==============================] - 0s 6ms/step - loss: 0.1476 - accuracy: 0.9266 - val_loss: 0.2924 - val_accuracy: 0.9138\n",
      "Epoch 31/50\n",
      "17/17 [==============================] - 0s 6ms/step - loss: 0.1407 - accuracy: 0.9402 - val_loss: 0.3149 - val_accuracy: 0.9138\n",
      "Epoch 32/50\n",
      "17/17 [==============================] - 0s 7ms/step - loss: 0.1269 - accuracy: 0.9421 - val_loss: 0.3273 - val_accuracy: 0.9138\n",
      "Epoch 33/50\n",
      "17/17 [==============================] - 0s 6ms/step - loss: 0.1235 - accuracy: 0.9382 - val_loss: 0.4066 - val_accuracy: 0.9138\n",
      "Epoch 34/50\n",
      "17/17 [==============================] - 0s 7ms/step - loss: 0.1346 - accuracy: 0.9382 - val_loss: 0.3153 - val_accuracy: 0.9138\n",
      "Epoch 35/50\n",
      "17/17 [==============================] - 0s 6ms/step - loss: 0.1210 - accuracy: 0.9459 - val_loss: 0.3567 - val_accuracy: 0.8966\n",
      "Epoch 36/50\n",
      "17/17 [==============================] - 0s 6ms/step - loss: 0.1470 - accuracy: 0.9305 - val_loss: 0.2894 - val_accuracy: 0.9138\n",
      "Epoch 37/50\n",
      "17/17 [==============================] - 0s 6ms/step - loss: 0.1260 - accuracy: 0.9459 - val_loss: 0.3000 - val_accuracy: 0.9310\n",
      "Epoch 38/50\n",
      "17/17 [==============================] - 0s 7ms/step - loss: 0.1263 - accuracy: 0.9517 - val_loss: 0.3159 - val_accuracy: 0.9310\n",
      "Epoch 39/50\n",
      "17/17 [==============================] - 0s 7ms/step - loss: 0.1306 - accuracy: 0.9498 - val_loss: 0.3740 - val_accuracy: 0.8621\n",
      "Epoch 40/50\n",
      "17/17 [==============================] - 0s 6ms/step - loss: 0.1142 - accuracy: 0.9575 - val_loss: 0.4243 - val_accuracy: 0.8793\n",
      "Epoch 41/50\n",
      "17/17 [==============================] - 0s 7ms/step - loss: 0.1492 - accuracy: 0.9421 - val_loss: 0.2349 - val_accuracy: 0.9310\n",
      "Epoch 42/50\n",
      "17/17 [==============================] - 0s 6ms/step - loss: 0.1287 - accuracy: 0.9556 - val_loss: 0.4352 - val_accuracy: 0.8793\n",
      "Epoch 43/50\n",
      "17/17 [==============================] - 0s 7ms/step - loss: 0.1225 - accuracy: 0.9517 - val_loss: 0.2553 - val_accuracy: 0.9138\n",
      "Epoch 44/50\n",
      "17/17 [==============================] - 0s 6ms/step - loss: 0.1322 - accuracy: 0.9479 - val_loss: 0.4837 - val_accuracy: 0.8793\n",
      "Epoch 45/50\n",
      "17/17 [==============================] - 0s 6ms/step - loss: 0.1262 - accuracy: 0.9479 - val_loss: 0.2929 - val_accuracy: 0.9138\n",
      "Epoch 46/50\n",
      "17/17 [==============================] - 0s 6ms/step - loss: 0.1220 - accuracy: 0.9421 - val_loss: 0.3650 - val_accuracy: 0.9138\n",
      "Epoch 47/50\n",
      "17/17 [==============================] - 0s 6ms/step - loss: 0.1080 - accuracy: 0.9575 - val_loss: 0.3843 - val_accuracy: 0.9138\n",
      "Epoch 48/50\n",
      "17/17 [==============================] - 0s 6ms/step - loss: 0.1069 - accuracy: 0.9575 - val_loss: 0.4007 - val_accuracy: 0.9138\n",
      "Epoch 49/50\n",
      "17/17 [==============================] - 0s 6ms/step - loss: 0.1044 - accuracy: 0.9614 - val_loss: 0.3756 - val_accuracy: 0.9138\n",
      "Epoch 50/50\n",
      "17/17 [==============================] - 0s 6ms/step - loss: 0.1116 - accuracy: 0.9517 - val_loss: 0.4625 - val_accuracy: 0.8793\n"
     ]
    }
   ],
   "source": [
    "epochs_hist = model.fit(X_train, y_train, epochs = 50,  verbose = 1, validation_split = 0.1)"
   ]
  },
  {
   "cell_type": "markdown",
   "id": "fa0d2d28",
   "metadata": {
    "papermill": {
     "duration": 0.024926,
     "end_time": "2023-01-09T20:15:16.662645",
     "exception": false,
     "start_time": "2023-01-09T20:15:16.637719",
     "status": "completed"
    },
    "tags": []
   },
   "source": [
    "# Model Validation and Results"
   ]
  },
  {
   "cell_type": "code",
   "execution_count": 25,
   "id": "9ac20105",
   "metadata": {
    "execution": {
     "iopub.execute_input": "2023-01-09T20:15:16.715659Z",
     "iopub.status.busy": "2023-01-09T20:15:16.714203Z",
     "iopub.status.idle": "2023-01-09T20:15:16.722239Z",
     "shell.execute_reply": "2023-01-09T20:15:16.720741Z"
    },
    "papermill": {
     "duration": 0.037369,
     "end_time": "2023-01-09T20:15:16.724798",
     "exception": false,
     "start_time": "2023-01-09T20:15:16.687429",
     "status": "completed"
    },
    "tags": []
   },
   "outputs": [
    {
     "name": "stdout",
     "output_type": "stream",
     "text": [
      "dict_keys(['loss', 'accuracy', 'val_loss', 'val_accuracy'])\n"
     ]
    }
   ],
   "source": [
    "print(epochs_hist.history.keys())"
   ]
  },
  {
   "cell_type": "code",
   "execution_count": 26,
   "id": "2436c5e3",
   "metadata": {
    "execution": {
     "iopub.execute_input": "2023-01-09T20:15:16.778713Z",
     "iopub.status.busy": "2023-01-09T20:15:16.777605Z",
     "iopub.status.idle": "2023-01-09T20:15:17.009099Z",
     "shell.execute_reply": "2023-01-09T20:15:17.008204Z"
    },
    "papermill": {
     "duration": 0.261249,
     "end_time": "2023-01-09T20:15:17.011538",
     "exception": false,
     "start_time": "2023-01-09T20:15:16.750289",
     "status": "completed"
    },
    "tags": []
   },
   "outputs": [
    {
     "data": {
      "image/png": "[encoded data removed]",
      "text/plain": [
       "<Figure size 432x288 with 1 Axes>"
      ]
     },
     "metadata": {
      "needs_background": "light"
     },
     "output_type": "display_data"
    }
   ],
   "source": [
    "plt.plot(epochs_hist.history['loss'])\n",
    "plt.plot(epochs_hist.history['val_loss'])\n",
    "\n",
    "plt.title('Model Loss Progression During Training/Validation')\n",
    "plt.ylabel('Training and Validation Losses')\n",
    "plt.xlabel('Epoch Number')\n",
    "plt.legend(['Training Loss', 'Validation Loss'])\n",
    "plt.show()"
   ]
  },
  {
   "cell_type": "code",
   "execution_count": 27,
   "id": "579f06a2",
   "metadata": {
    "execution": {
     "iopub.execute_input": "2023-01-09T20:15:17.064438Z",
     "iopub.status.busy": "2023-01-09T20:15:17.063620Z",
     "iopub.status.idle": "2023-01-09T20:15:17.229663Z",
     "shell.execute_reply": "2023-01-09T20:15:17.228068Z"
    },
    "papermill": {
     "duration": 0.196359,
     "end_time": "2023-01-09T20:15:17.232845",
     "exception": false,
     "start_time": "2023-01-09T20:15:17.036486",
     "status": "completed"
    },
    "tags": []
   },
   "outputs": [],
   "source": [
    "predicted = model.predict(X_test)"
   ]
  },
  {
   "cell_type": "code",
   "execution_count": 28,
   "id": "c5e4795a",
   "metadata": {
    "execution": {
     "iopub.execute_input": "2023-01-09T20:15:17.284250Z",
     "iopub.status.busy": "2023-01-09T20:15:17.283822Z",
     "iopub.status.idle": "2023-01-09T20:15:17.292783Z",
     "shell.execute_reply": "2023-01-09T20:15:17.291632Z"
    },
    "papermill": {
     "duration": 0.037869,
     "end_time": "2023-01-09T20:15:17.295543",
     "exception": false,
     "start_time": "2023-01-09T20:15:17.257674",
     "status": "completed"
    },
    "tags": []
   },
   "outputs": [],
   "source": [
    "predicted_value = []\n",
    "test = []\n",
    "for i in predicted:\n",
    "    predicted_value.append(np.argmax(i))\n",
    "    \n",
    "for i in y_test:\n",
    "    test.append(np.argmax(i))"
   ]
  },
  {
   "cell_type": "code",
   "execution_count": 29,
   "id": "6026d901",
   "metadata": {
    "execution": {
     "iopub.execute_input": "2023-01-09T20:15:17.347747Z",
     "iopub.status.busy": "2023-01-09T20:15:17.347249Z",
     "iopub.status.idle": "2023-01-09T20:15:17.359257Z",
     "shell.execute_reply": "2023-01-09T20:15:17.357437Z"
    },
    "papermill": {
     "duration": 0.041356,
     "end_time": "2023-01-09T20:15:17.362350",
     "exception": false,
     "start_time": "2023-01-09T20:15:17.320994",
     "status": "completed"
    },
    "tags": []
   },
   "outputs": [
    {
     "name": "stdout",
     "output_type": "stream",
     "text": [
      "              precision    recall  f1-score   support\n",
      "\n",
      "           0       0.87      0.90      0.89        60\n",
      "           1       0.90      0.87      0.88        60\n",
      "\n",
      "    accuracy                           0.88       120\n",
      "   macro avg       0.88      0.88      0.88       120\n",
      "weighted avg       0.88      0.88      0.88       120\n",
      "\n"
     ]
    }
   ],
   "source": [
    "print(classification_report(test, predicted_value))"
   ]
  },
  {
   "cell_type": "code",
   "execution_count": 30,
   "id": "3a0e4081",
   "metadata": {
    "execution": {
     "iopub.execute_input": "2023-01-09T20:15:17.415248Z",
     "iopub.status.busy": "2023-01-09T20:15:17.414128Z",
     "iopub.status.idle": "2023-01-09T20:15:17.659824Z",
     "shell.execute_reply": "2023-01-09T20:15:17.658641Z"
    },
    "papermill": {
     "duration": 0.274829,
     "end_time": "2023-01-09T20:15:17.662496",
     "exception": false,
     "start_time": "2023-01-09T20:15:17.387667",
     "status": "completed"
    },
    "tags": []
   },
   "outputs": [
    {
     "data": {
      "image/png": "[encoded data removed]",
      "text/plain": [
       "<Figure size 720x720 with 2 Axes>"
      ]
     },
     "metadata": {
      "needs_background": "light"
     },
     "output_type": "display_data"
    }
   ],
   "source": [
    "plt.figure(figsize=(10, 10))\n",
    "cm=confusion_matrix(test, predicted_value)\n",
    "sns.heatmap(cm, annot=True)\n",
    "plt.show()"
   ]
  },
  {
   "cell_type": "markdown",
   "id": "0066c11f",
   "metadata": {
    "papermill": {
     "duration": 0.025122,
     "end_time": "2023-01-09T20:15:17.713144",
     "exception": false,
     "start_time": "2023-01-09T20:15:17.688022",
     "status": "completed"
    },
    "tags": []
   },
   "source": [
    "# Thank you for visiting my notebook"
   ]
  },
  {
   "cell_type": "code",
   "execution_count": null,
   "id": "be01b518",
   "metadata": {
    "papermill": {
     "duration": 0.024448,
     "end_time": "2023-01-09T20:15:17.763297",
     "exception": false,
     "start_time": "2023-01-09T20:15:17.738849",
     "status": "completed"
    },
    "tags": []
   },
   "outputs": [],
   "source": []
  }
 ],
 "metadata": {
  "kernelspec": {
   "display_name": "Python 3",
   "language": "python",
   "name": "python3"
  },
  "language_info": {
   "codemirror_mode": {
    "name": "ipython",
    "version": 3
   },
   "file_extension": ".py",
   "mimetype": "text/x-python",
   "name": "python",
   "nbconvert_exporter": "python",
   "pygments_lexer": "ipython3",
   "version": "3.7.12"
  },
  "papermill": {
   "default_parameters": {},
   "duration": 33.258653,
   "end_time": "2023-01-09T20:15:21.221217",
   "environment_variables": {},
   "exception": null,
   "input_path": "__notebook__.ipynb",
   "output_path": "__notebook__.ipynb",
   "parameters": {},
   "start_time": "2023-01-09T20:14:47.962564",
   "version": "2.3.4"
  }
 },
 "nbformat": 4,
 "nbformat_minor": 5
}
